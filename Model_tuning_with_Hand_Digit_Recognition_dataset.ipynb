{
  "nbformat": 4,
  "nbformat_minor": 0,
  "metadata": {
    "colab": {
      "name": "Model tuning with Hand Digit Recognition dataset.ipynb",
      "provenance": [],
      "collapsed_sections": [],
      "authorship_tag": "ABX9TyOxdfUJ1jro+CdskCfS/Wup",
      "include_colab_link": true
    },
    "kernelspec": {
      "name": "python3",
      "display_name": "Python 3"
    },
    "language_info": {
      "name": "python"
    },
    "accelerator": "GPU"
  },
  "cells": [
    {
      "cell_type": "markdown",
      "metadata": {
        "id": "view-in-github",
        "colab_type": "text"
      },
      "source": [
        "<a href=\"https://colab.research.google.com/github/sharifashik591/HandDigit-recognition-with_DeepLearning/blob/main/Model_tuning_with_Hand_Digit_Recognition_dataset.ipynb\" target=\"_parent\"><img src=\"https://colab.research.google.com/assets/colab-badge.svg\" alt=\"Open In Colab\"/></a>"
      ]
    },
    {
      "cell_type": "markdown",
      "metadata": {
        "id": "NCj79vX9jFBn"
      },
      "source": [
        "Load dependences"
      ]
    },
    {
      "cell_type": "code",
      "metadata": {
        "id": "fa0cjUM6fo44"
      },
      "source": [
        "import pandas as pd\n",
        "import numpy as np\n",
        "import matplotlib.pyplot as plt\n",
        "\n",
        "from  sklearn.model_selection import train_test_split, cross_val_score\n",
        "import warnings\n",
        "warnings.filterwarnings('ignore')"
      ],
      "execution_count": 1,
      "outputs": []
    },
    {
      "cell_type": "markdown",
      "metadata": {
        "id": "BnJSEyzkkBpj"
      },
      "source": [
        "Load digit recognition Dataset from sklearn"
      ]
    },
    {
      "cell_type": "code",
      "metadata": {
        "id": "2SPZo8I5jNfi"
      },
      "source": [
        "from sklearn import datasets\n",
        "dataset=datasets.load_digits()"
      ],
      "execution_count": 2,
      "outputs": []
    },
    {
      "cell_type": "code",
      "metadata": {
        "colab": {
          "base_uri": "https://localhost:8080/",
          "height": 0
        },
        "id": "yoqBUlSCkduD",
        "outputId": "6976a61b-dcde-4c9f-da63-49745f16bd36"
      },
      "source": [
        "print(dataset.DESCR)"
      ],
      "execution_count": 3,
      "outputs": [
        {
          "output_type": "stream",
          "name": "stdout",
          "text": [
            ".. _digits_dataset:\n",
            "\n",
            "Optical recognition of handwritten digits dataset\n",
            "--------------------------------------------------\n",
            "\n",
            "**Data Set Characteristics:**\n",
            "\n",
            "    :Number of Instances: 5620\n",
            "    :Number of Attributes: 64\n",
            "    :Attribute Information: 8x8 image of integer pixels in the range 0..16.\n",
            "    :Missing Attribute Values: None\n",
            "    :Creator: E. Alpaydin (alpaydin '@' boun.edu.tr)\n",
            "    :Date: July; 1998\n",
            "\n",
            "This is a copy of the test set of the UCI ML hand-written digits datasets\n",
            "https://archive.ics.uci.edu/ml/datasets/Optical+Recognition+of+Handwritten+Digits\n",
            "\n",
            "The data set contains images of hand-written digits: 10 classes where\n",
            "each class refers to a digit.\n",
            "\n",
            "Preprocessing programs made available by NIST were used to extract\n",
            "normalized bitmaps of handwritten digits from a preprinted form. From a\n",
            "total of 43 people, 30 contributed to the training set and different 13\n",
            "to the test set. 32x32 bitmaps are divided into nonoverlapping blocks of\n",
            "4x4 and the number of on pixels are counted in each block. This generates\n",
            "an input matrix of 8x8 where each element is an integer in the range\n",
            "0..16. This reduces dimensionality and gives invariance to small\n",
            "distortions.\n",
            "\n",
            "For info on NIST preprocessing routines, see M. D. Garris, J. L. Blue, G.\n",
            "T. Candela, D. L. Dimmick, J. Geist, P. J. Grother, S. A. Janet, and C.\n",
            "L. Wilson, NIST Form-Based Handprint Recognition System, NISTIR 5469,\n",
            "1994.\n",
            "\n",
            ".. topic:: References\n",
            "\n",
            "  - C. Kaynak (1995) Methods of Combining Multiple Classifiers and Their\n",
            "    Applications to Handwritten Digit Recognition, MSc Thesis, Institute of\n",
            "    Graduate Studies in Science and Engineering, Bogazici University.\n",
            "  - E. Alpaydin, C. Kaynak (1998) Cascading Classifiers, Kybernetika.\n",
            "  - Ken Tang and Ponnuthurai N. Suganthan and Xi Yao and A. Kai Qin.\n",
            "    Linear dimensionalityreduction using relevance weighted LDA. School of\n",
            "    Electrical and Electronic Engineering Nanyang Technological University.\n",
            "    2005.\n",
            "  - Claudio Gentile. A New Approximate Maximal Margin Classification\n",
            "    Algorithm. NIPS. 2000.\n"
          ]
        }
      ]
    },
    {
      "cell_type": "markdown",
      "metadata": {
        "id": "9yCRr56JmdbQ"
      },
      "source": [
        "Define features and target dataset"
      ]
    },
    {
      "cell_type": "code",
      "metadata": {
        "id": "0OjlLcWukjAs"
      },
      "source": [
        "features=dataset.images\n",
        "target=dataset.target"
      ],
      "execution_count": 4,
      "outputs": []
    },
    {
      "cell_type": "code",
      "metadata": {
        "colab": {
          "base_uri": "https://localhost:8080/",
          "height": 348
        },
        "id": "b43XarDImxtK",
        "outputId": "eeef36e6-ea29-4bf1-900a-e40f96e5d61d"
      },
      "source": [
        "fig,axes=plt.subplots(3,10, figsize=(15,6))\n",
        "\n",
        "for ax,img,num in zip(axes.ravel(),features,target):\n",
        "  ax.axis('off')\n",
        "  ax.imshow(img, cmap=plt.cm.gray_r)\n",
        "  ax.set_title('Digit '+str(num))"
      ],
      "execution_count": 5,
      "outputs": [
        {
          "output_type": "display_data",
          "data": {
            "image/png": "[encoded data removed]",
            "text/plain": [
              "<Figure size 1080x432 with 30 Axes>"
            ]
          },
          "metadata": {
            "needs_background": "light"
          }
        }
      ]
    },
    {
      "cell_type": "code",
      "metadata": {
        "colab": {
          "base_uri": "https://localhost:8080/",
          "height": 0
        },
        "id": "B4Uf_uZGmsBG",
        "outputId": "cf41b690-a3ab-4988-91a4-43df7a78ae8b"
      },
      "source": [
        "print(features.shape)\n",
        "print(target.shape)"
      ],
      "execution_count": 6,
      "outputs": [
        {
          "output_type": "stream",
          "name": "stdout",
          "text": [
            "(1797, 8, 8)\n",
            "(1797,)\n"
          ]
        }
      ]
    },
    {
      "cell_type": "markdown",
      "metadata": {
        "id": "BBo_FGeBneGd"
      },
      "source": [
        "We see that features data contains 3 dimensions, Here is 1797 isntances and each instanch are 8 by 8 pixels big. To classify on this features data we have to flatten the images, Turning each 2-D array shape (8, 8) into shape (64,) ."
      ]
    },
    {
      "cell_type": "code",
      "metadata": {
        "id": "tjkQgWKdnbdy"
      },
      "source": [
        "reshaped_features=features.reshape((len(features),-1))"
      ],
      "execution_count": 7,
      "outputs": []
    },
    {
      "cell_type": "code",
      "metadata": {
        "colab": {
          "base_uri": "https://localhost:8080/",
          "height": 0
        },
        "id": "QM3l82QWncuI",
        "outputId": "4640ff97-8f7c-4418-b168-b9b2a71f70bc"
      },
      "source": [
        "print('Before reshping features shape is',features.shape)\n",
        "print('After reshping features shape is',reshaped_features.shape)"
      ],
      "execution_count": 8,
      "outputs": [
        {
          "output_type": "stream",
          "name": "stdout",
          "text": [
            "Before reshping features shape is (1797, 8, 8)\n",
            "After reshping features shape is (1797, 64)\n"
          ]
        }
      ]
    },
    {
      "cell_type": "markdown",
      "metadata": {
        "id": "3a8KXuYxJ33G"
      },
      "source": [
        "## Step 1"
      ]
    },
    {
      "cell_type": "markdown",
      "metadata": {
        "id": "FY8rrjSNsIn6"
      },
      "source": [
        "Separate data into train and test set"
      ]
    },
    {
      "cell_type": "code",
      "metadata": {
        "id": "uyERTWlOncrd"
      },
      "source": [
        "x_train,x_test,y_train,y_test=train_test_split(reshaped_features, target, stratify=target, test_size=0.2)"
      ],
      "execution_count": 9,
      "outputs": []
    },
    {
      "cell_type": "code",
      "metadata": {
        "colab": {
          "base_uri": "https://localhost:8080/",
          "height": 0
        },
        "id": "iQYb4tcencpF",
        "outputId": "32e5312a-23fc-4436-807b-859a45c5b399"
      },
      "source": [
        "print(x_train.shape)\n",
        "print(y_train.shape)\n",
        "\n",
        "print(x_test.shape)\n",
        "print(y_test.shape)"
      ],
      "execution_count": 10,
      "outputs": [
        {
          "output_type": "stream",
          "name": "stdout",
          "text": [
            "(1437, 64)\n",
            "(1437,)\n",
            "(360, 64)\n",
            "(360,)\n"
          ]
        }
      ]
    },
    {
      "cell_type": "code",
      "metadata": {
        "id": "jL2oLMN_zyDU"
      },
      "source": [
        "from sklearn.metrics import accuracy_score,confusion_matrix,classification_report"
      ],
      "execution_count": 11,
      "outputs": []
    },
    {
      "cell_type": "code",
      "metadata": {
        "id": "53-UZ2MKxsmZ"
      },
      "source": [
        "default_score=[] #store all default classifier accuracy"
      ],
      "execution_count": 12,
      "outputs": []
    },
    {
      "cell_type": "markdown",
      "metadata": {
        "id": "V_m7iDJLw-G_"
      },
      "source": [
        "### Support vector machine (SVM)"
      ]
    },
    {
      "cell_type": "code",
      "metadata": {
        "id": "tJv4foMKzB-e"
      },
      "source": [
        "from sklearn import svm"
      ],
      "execution_count": 13,
      "outputs": []
    },
    {
      "cell_type": "code",
      "metadata": {
        "colab": {
          "base_uri": "https://localhost:8080/",
          "height": 0
        },
        "id": "9FpaziRKxVR_",
        "outputId": "2683a7d7-93c5-43a2-cfdd-fa65b1e587bd"
      },
      "source": [
        "# Default SVM \n",
        "svm_clf=svm.SVC()\n",
        "svm_model=svm_clf.fit(x_train,y_train)\n",
        "pred_svm=svm_model.predict(x_test)\n",
        "acc_svm=accuracy_score(y_test,pred_svm)\n",
        "print('Default SVM accuracy is',acc_svm*100)\n",
        "default_score.append({'SVM':acc_svm})\n"
      ],
      "execution_count": 14,
      "outputs": [
        {
          "output_type": "stream",
          "name": "stdout",
          "text": [
            "Default SVM accuracy is 98.88888888888889\n"
          ]
        }
      ]
    },
    {
      "cell_type": "markdown",
      "metadata": {
        "id": "iF2pvYU-yRoH"
      },
      "source": [
        "Cross validation on SVM"
      ]
    },
    {
      "cell_type": "code",
      "metadata": {
        "id": "EdSCbdpMvkEG"
      },
      "source": [
        "gama_range=[]\n",
        "for i in range(-5,5):\n",
        "  gama=10**i\n",
        "  gama_range.append(gama)"
      ],
      "execution_count": 15,
      "outputs": []
    },
    {
      "cell_type": "code",
      "metadata": {
        "colab": {
          "base_uri": "https://localhost:8080/",
          "height": 0
        },
        "id": "3NwnTwsUvfUH",
        "outputId": "cec4f6c2-a7ff-49cf-890d-40757a290930"
      },
      "source": [
        "svm_score=[]\n",
        "for i in gama_range:\n",
        "  svm_clf=svm.SVC(C=i,kernel='rbf')\n",
        "  scores=cross_val_score(svm_clf,reshaped_features,target,cv=5,scoring='f1_macro')\n",
        "  # print(cross_val_score(svm_clf,reshaped_features,target,cv=5,scoring='f1_macro'))\n",
        "  max_score=scores[np.argmax(scores)]\n",
        "  print(max_score)\n",
        "  svm_score.append({i:max_score})\n"
      ],
      "execution_count": 16,
      "outputs": [
        {
          "output_type": "stream",
          "name": "stdout",
          "text": [
            "0.06778073717673341\n",
            "0.06778073717673341\n",
            "0.06778073717673341\n",
            "0.10616539291163059\n",
            "0.9748810593821119\n",
            "0.9888360653670434\n",
            "0.9888857589984351\n",
            "0.9888857589984351\n",
            "0.9888857589984351\n",
            "0.9888857589984351\n"
          ]
        }
      ]
    },
    {
      "cell_type": "code",
      "metadata": {
        "colab": {
          "base_uri": "https://localhost:8080/",
          "height": 0
        },
        "id": "aRgW2CRLvfQ-",
        "outputId": "cb74de15-a150-4983-d851-ae4562b6e3e1"
      },
      "source": [
        "print(\"Accuracy Per C value is \")\n",
        "svm_score"
      ],
      "execution_count": 17,
      "outputs": [
        {
          "output_type": "stream",
          "name": "stdout",
          "text": [
            "Accuracy Per C value is \n"
          ]
        },
        {
          "output_type": "execute_result",
          "data": {
            "text/plain": [
              "[{1e-05: 0.06778073717673341},\n",
              " {0.0001: 0.06778073717673341},\n",
              " {0.001: 0.06778073717673341},\n",
              " {0.01: 0.10616539291163059},\n",
              " {0.1: 0.9748810593821119},\n",
              " {1: 0.9888360653670434},\n",
              " {10: 0.9888857589984351},\n",
              " {100: 0.9888857589984351},\n",
              " {1000: 0.9888857589984351},\n",
              " {10000: 0.9888857589984351}]"
            ]
          },
          "metadata": {},
          "execution_count": 17
        }
      ]
    },
    {
      "cell_type": "markdown",
      "metadata": {
        "id": "9EpTJiz2zOEg"
      },
      "source": [
        "### K-Nearest Neighbor(KNN) "
      ]
    },
    {
      "cell_type": "code",
      "metadata": {
        "id": "k9M3sFyMzZEG"
      },
      "source": [
        "from sklearn.neighbors import KNeighborsClassifier"
      ],
      "execution_count": 18,
      "outputs": []
    },
    {
      "cell_type": "code",
      "metadata": {
        "colab": {
          "base_uri": "https://localhost:8080/",
          "height": 0
        },
        "id": "B4c9U4kwGV9l",
        "outputId": "c1d620b0-4b55-4bda-e6c2-a5265a83101c"
      },
      "source": [
        "# Default KNN\n",
        "knn_clf = KNeighborsClassifier()\n",
        "knn_model=knn_clf.fit(x_train, y_train)\n",
        "pred_knn = knn_model.predict(x_test)\n",
        "acc_knn=accuracy_score(y_test,pred_knn)\n",
        "print(acc_knn)\n",
        "default_score.append({'KNN':acc_knn})\n"
      ],
      "execution_count": 19,
      "outputs": [
        {
          "output_type": "stream",
          "name": "stdout",
          "text": [
            "0.9805555555555555\n"
          ]
        }
      ]
    },
    {
      "cell_type": "markdown",
      "metadata": {
        "id": "5xe_RLlP1KTy"
      },
      "source": [
        "Cross validation on KNN"
      ]
    },
    {
      "cell_type": "code",
      "metadata": {
        "id": "EulS2AmYvfIy"
      },
      "source": [
        "k_value=[1,3,5,7,9]\n",
        "knn_score=[]\n",
        "\n",
        "for n in k_value:\n",
        "    knn_clf = KNeighborsClassifier(n_neighbors=n)\n",
        "    knn_scores=cross_val_score(knn_clf,reshaped_features,target,cv=5,scoring='f1_macro')\n",
        "    max_score=knn_scores[np.argmax(knn_scores)]\n",
        "    # print(max_score)\n",
        "    knn_score.append({n:max_score})\n"
      ],
      "execution_count": 20,
      "outputs": []
    },
    {
      "cell_type": "code",
      "metadata": {
        "colab": {
          "base_uri": "https://localhost:8080/",
          "height": 0
        },
        "id": "YUUZCWM30zkh",
        "outputId": "87f394c1-410c-414a-c297-131512e79d2c"
      },
      "source": [
        "print(\"Accuracy Per k values is \")\n",
        "knn_score"
      ],
      "execution_count": 21,
      "outputs": [
        {
          "output_type": "stream",
          "name": "stdout",
          "text": [
            "Accuracy Per k values is \n"
          ]
        },
        {
          "output_type": "execute_result",
          "data": {
            "text/plain": [
              "[{1: 0.9860965760616709},\n",
              " {3: 0.9831551205732408},\n",
              " {5: 0.9803783605113965},\n",
              " {7: 0.9804113208213376},\n",
              " {9: 0.9774616601217975}]"
            ]
          },
          "metadata": {},
          "execution_count": 21
        }
      ]
    },
    {
      "cell_type": "markdown",
      "metadata": {
        "id": "ID9pJSkE2dg3"
      },
      "source": [
        "### Decision Trees"
      ]
    },
    {
      "cell_type": "code",
      "metadata": {
        "id": "js5lYYyI2yYn"
      },
      "source": [
        "from sklearn.tree import DecisionTreeClassifier"
      ],
      "execution_count": 22,
      "outputs": []
    },
    {
      "cell_type": "code",
      "metadata": {
        "colab": {
          "base_uri": "https://localhost:8080/",
          "height": 0
        },
        "id": "4HopK_L80zfg",
        "outputId": "4ce56098-9ff3-4221-b1e9-4b0759e5acf4"
      },
      "source": [
        "# default Decision Trees \n",
        "\n",
        "DT_clf=DecisionTreeClassifier()\n",
        "dt_model=DT_clf.fit(x_train,y_train)\n",
        "pred_dt=dt_model.predict(x_test)\n",
        "acc_dt=accuracy_score(y_test,pred_dt)\n",
        "print(acc_dt)\n",
        "default_score.append({'Decision Trees':acc_dt})"
      ],
      "execution_count": 23,
      "outputs": [
        {
          "output_type": "stream",
          "name": "stdout",
          "text": [
            "0.8694444444444445\n"
          ]
        }
      ]
    },
    {
      "cell_type": "markdown",
      "metadata": {
        "id": "_-wsTaji3koP"
      },
      "source": [
        "Cross validation on Decision Trees "
      ]
    },
    {
      "cell_type": "code",
      "metadata": {
        "colab": {
          "base_uri": "https://localhost:8080/",
          "height": 0
        },
        "id": "MfreDfWn2dAB",
        "outputId": "5bad6a97-ab92-4af0-87c5-7b233345f703"
      },
      "source": [
        "dt_score=[]\n",
        "min_split_value=[3,5,7,9]\n",
        "\n",
        "for i in min_split_value:\n",
        "  DT_clf=DecisionTreeClassifier(min_samples_split=i)\n",
        "  DT_scores=cross_val_score(DT_clf,reshaped_features,target,cv=5,scoring='f1_macro')\n",
        "  # print(DT_scores)\n",
        "  max_dt=DT_scores[np.argmax(DT_scores)]\n",
        "  print(max_dt)\n",
        "  dt_score.append({i:max_dt})\n",
        "\n"
      ],
      "execution_count": 24,
      "outputs": [
        {
          "output_type": "stream",
          "name": "stdout",
          "text": [
            "0.8606714472806392\n",
            "0.8426454970214351\n",
            "0.8297881868890566\n",
            "0.8247337261099377\n"
          ]
        }
      ]
    },
    {
      "cell_type": "code",
      "metadata": {
        "colab": {
          "base_uri": "https://localhost:8080/",
          "height": 0
        },
        "id": "XaV-Or4a2c9h",
        "outputId": "8b4332f3-e485-40d9-edd5-075ebee5cfc4"
      },
      "source": [
        "print(\"Accuracy Per min_samples_split value is \")\n",
        "dt_score"
      ],
      "execution_count": 25,
      "outputs": [
        {
          "output_type": "stream",
          "name": "stdout",
          "text": [
            "Accuracy Per min_samples_split value is \n"
          ]
        },
        {
          "output_type": "execute_result",
          "data": {
            "text/plain": [
              "[{3: 0.8606714472806392},\n",
              " {5: 0.8426454970214351},\n",
              " {7: 0.8297881868890566},\n",
              " {9: 0.8247337261099377}]"
            ]
          },
          "metadata": {},
          "execution_count": 25
        }
      ]
    },
    {
      "cell_type": "markdown",
      "metadata": {
        "id": "7Dfi8T5VP4J9"
      },
      "source": [
        "### LogisticRegression"
      ]
    },
    {
      "cell_type": "code",
      "metadata": {
        "id": "FnYOT2ivP6WR"
      },
      "source": [
        "from sklearn.linear_model import LogisticRegression"
      ],
      "execution_count": 26,
      "outputs": []
    },
    {
      "cell_type": "code",
      "metadata": {
        "id": "BRLUOb4pSdyD"
      },
      "source": [
        "# default LogisticRegression\n",
        "lr_clf=LogisticRegression()\n",
        "lr_model=lr_clf.fit(x_train,y_train)\n",
        "pred_lr=lr_model.predict(x_test)\n",
        "acc_lr=accuracy_score(y_test,pred_lr)\n",
        "default_score.append({'LogisticRegression':acc_lr})\n"
      ],
      "execution_count": 27,
      "outputs": []
    },
    {
      "cell_type": "code",
      "metadata": {
        "colab": {
          "base_uri": "https://localhost:8080/",
          "height": 0
        },
        "id": "hJTUMcWX2c2B",
        "outputId": "491c163e-7707-4926-a045-e366526e4449"
      },
      "source": [
        "print(acc_lr)"
      ],
      "execution_count": 28,
      "outputs": [
        {
          "output_type": "stream",
          "name": "stdout",
          "text": [
            "0.9472222222222222\n"
          ]
        }
      ]
    },
    {
      "cell_type": "markdown",
      "metadata": {
        "id": "kN3IeAFU5i-z"
      },
      "source": [
        "Cross validation on LogisticRegression"
      ]
    },
    {
      "cell_type": "code",
      "metadata": {
        "id": "WIDNWTjj6QM5"
      },
      "source": [
        "gama_range=[]\n",
        "for i in range(-5,5):\n",
        "  gama=10**i\n",
        "  gama_range.append(gama)"
      ],
      "execution_count": 29,
      "outputs": []
    },
    {
      "cell_type": "code",
      "metadata": {
        "colab": {
          "base_uri": "https://localhost:8080/",
          "height": 0
        },
        "id": "76iPg1hT0zdJ",
        "outputId": "d1111b40-f4c5-4345-d784-80e8ad28f834"
      },
      "source": [
        "lr_score=[]\n",
        "\n",
        "for i in gama_range:\n",
        "  lr_clf=LogisticRegression(penalty='l1',C=i,solver='liblinear') # l1 is supported by solver 'liblinear'\n",
        "  LR_scores=cross_val_score(lr_clf,reshaped_features,target,cv=5,scoring='f1_macro')\n",
        "  max_lr=LR_scores[np.argmax(LR_scores)]\n",
        "  print(max_lr)\n",
        "  lr_score.append({i:max_lr})\n",
        "\n"
      ],
      "execution_count": 30,
      "outputs": [
        {
          "output_type": "stream",
          "name": "stdout",
          "text": [
            "0.018227848101265823\n",
            "0.018227848101265823\n",
            "0.7948894448590822\n",
            "0.9359408115260441\n",
            "0.9634775753653981\n",
            "0.9609867840609814\n",
            "0.9527050729015633\n",
            "0.9501131986933059\n",
            "0.9555142616789892\n",
            "0.955442231902734\n"
          ]
        }
      ]
    },
    {
      "cell_type": "code",
      "metadata": {
        "colab": {
          "base_uri": "https://localhost:8080/",
          "height": 0
        },
        "id": "LHUw2NBx6ctY",
        "outputId": "28f11b80-8fb3-424e-9432-fd919f865794"
      },
      "source": [
        "print(\"Accuracy Per C value is \")\n",
        "lr_score"
      ],
      "execution_count": 31,
      "outputs": [
        {
          "output_type": "stream",
          "name": "stdout",
          "text": [
            "Accuracy Per C value is \n"
          ]
        },
        {
          "output_type": "execute_result",
          "data": {
            "text/plain": [
              "[{1e-05: 0.018227848101265823},\n",
              " {0.0001: 0.018227848101265823},\n",
              " {0.001: 0.7948894448590822},\n",
              " {0.01: 0.9359408115260441},\n",
              " {0.1: 0.9634775753653981},\n",
              " {1: 0.9609867840609814},\n",
              " {10: 0.9527050729015633},\n",
              " {100: 0.9501131986933059},\n",
              " {1000: 0.9555142616789892},\n",
              " {10000: 0.955442231902734}]"
            ]
          },
          "metadata": {},
          "execution_count": 31
        }
      ]
    },
    {
      "cell_type": "markdown",
      "metadata": {
        "id": "UC8Weu8z9k-a"
      },
      "source": [
        "## Step 2"
      ]
    },
    {
      "cell_type": "code",
      "metadata": {
        "id": "nfUY4wOS9mrc"
      },
      "source": [
        "from sklearn.model_selection import GridSearchCV"
      ],
      "execution_count": 33,
      "outputs": []
    },
    {
      "cell_type": "markdown",
      "metadata": {
        "id": "RUM10U2GG4GZ"
      },
      "source": [
        "### Support vector machine (SVM)"
      ]
    },
    {
      "cell_type": "code",
      "metadata": {
        "colab": {
          "base_uri": "https://localhost:8080/",
          "height": 0
        },
        "id": "wictd_YQATE_",
        "outputId": "285526d8-4c54-4a6d-81a0-c2c53bcac4cf"
      },
      "source": [
        "param_grid={\n",
        "    'C':gama_range,\n",
        "    'gamma': [1, 0.1, 0.01, 0.001, 0.0001],\n",
        "    'kernel': ['rbf']\n",
        "}\n",
        "svm_clf=svm.SVC()\n",
        "svm_grid=GridSearchCV(estimator=svm_clf,param_grid=param_grid,n_jobs=-1)\n",
        "svm_grid.fit(x_train,y_train)\n"
      ],
      "execution_count": 45,
      "outputs": [
        {
          "output_type": "execute_result",
          "data": {
            "text/plain": [
              "GridSearchCV(cv=None, error_score=nan,\n",
              "             estimator=SVC(C=1.0, break_ties=False, cache_size=200,\n",
              "                           class_weight=None, coef0=0.0,\n",
              "                           decision_function_shape='ovr', degree=3,\n",
              "                           gamma='scale', kernel='rbf', max_iter=-1,\n",
              "                           probability=False, random_state=None, shrinking=True,\n",
              "                           tol=0.001, verbose=False),\n",
              "             iid='deprecated', n_jobs=-1,\n",
              "             param_grid={'C': [1e-05, 0.0001, 0.001, 0.01, 0.1, 1, 10, 100,\n",
              "                               1000, 10000],\n",
              "                         'gamma': [1, 0.1, 0.01, 0.001, 0.0001],\n",
              "                         'kernel': ['rbf']},\n",
              "             pre_dispatch='2*n_jobs', refit=True, return_train_score=False,\n",
              "             scoring=None, verbose=0)"
            ]
          },
          "metadata": {},
          "execution_count": 45
        }
      ]
    },
    {
      "cell_type": "code",
      "metadata": {
        "colab": {
          "base_uri": "https://localhost:8080/",
          "height": 0
        },
        "id": "SeZIxIfKAT74",
        "outputId": "1bd20fae-8e15-4196-d37c-e43138ee04cd"
      },
      "source": [
        "print('Best parameter for SVM is below',svm_grid.best_params_)\n",
        "print('SVM tuned validation accuracy = ',svm_grid.best_score_)\n",
        "print('SVM final test set accuracy = ',svm_grid.score(x_test,y_test))"
      ],
      "execution_count": 47,
      "outputs": [
        {
          "output_type": "stream",
          "name": "stdout",
          "text": [
            "Best parameter for SVM is below {'C': 10, 'gamma': 0.001, 'kernel': 'rbf'}\n",
            "SVM tuned validation accuracy =  0.9930434572202864\n",
            "SVM final test set accuracy =  0.9861111111111112\n"
          ]
        }
      ]
    },
    {
      "cell_type": "code",
      "metadata": {
        "id": "C409H6S_JH_B"
      },
      "source": [
        ""
      ],
      "execution_count": 35,
      "outputs": []
    },
    {
      "cell_type": "markdown",
      "metadata": {
        "id": "XNQz0FsPKvrY"
      },
      "source": [
        "### KNeighborsClassifier"
      ]
    },
    {
      "cell_type": "code",
      "metadata": {
        "id": "v6L2aQ4vJH8Y"
      },
      "source": [
        "param_grid={\n",
        "      'n_neighbors':[1,3,5,7,9]\n",
        "}\n",
        "knn_clf = KNeighborsClassifier()\n",
        "knn_grid=GridSearchCV(estimator=knn_clf,param_grid=param_grid,n_jobs=-1)"
      ],
      "execution_count": 36,
      "outputs": []
    },
    {
      "cell_type": "code",
      "metadata": {
        "colab": {
          "base_uri": "https://localhost:8080/",
          "height": 0
        },
        "id": "wDFx8qlSJH54",
        "outputId": "fa12e6e2-4617-4607-e781-a5c748dcc47f"
      },
      "source": [
        "knn_grid.fit(x_train,y_train)"
      ],
      "execution_count": 37,
      "outputs": [
        {
          "output_type": "execute_result",
          "data": {
            "text/plain": [
              "GridSearchCV(cv=None, error_score=nan,\n",
              "             estimator=KNeighborsClassifier(algorithm='auto', leaf_size=30,\n",
              "                                            metric='minkowski',\n",
              "                                            metric_params=None, n_jobs=None,\n",
              "                                            n_neighbors=5, p=2,\n",
              "                                            weights='uniform'),\n",
              "             iid='deprecated', n_jobs=-1,\n",
              "             param_grid={'n_neighbors': [1, 3, 5, 7, 9]},\n",
              "             pre_dispatch='2*n_jobs', refit=True, return_train_score=False,\n",
              "             scoring=None, verbose=0)"
            ]
          },
          "metadata": {},
          "execution_count": 37
        }
      ]
    },
    {
      "cell_type": "code",
      "metadata": {
        "colab": {
          "base_uri": "https://localhost:8080/",
          "height": 0
        },
        "id": "P4XedqobJH3i",
        "outputId": "3040845a-cd24-4b75-9f00-187e8e2adb68"
      },
      "source": [
        "print('Best parameter for KNN is below',knn_grid.best_params_)\n",
        "print('KNN tuned validation accuracy = ',knn_grid.best_score_)\n",
        "print('KNN final test set accuracy = ',knn_grid.score(x_test,y_test))"
      ],
      "execution_count": 38,
      "outputs": [
        {
          "output_type": "stream",
          "name": "stdout",
          "text": [
            "Best parameter for KNN is below {'n_neighbors': 5}\n",
            "KNN tuned validation accuracy =  0.9867789392179637\n",
            "KNN final test set accuracy =  0.9805555555555555\n"
          ]
        }
      ]
    },
    {
      "cell_type": "code",
      "metadata": {
        "id": "o4her5NuJH1T"
      },
      "source": [
        ""
      ],
      "execution_count": 38,
      "outputs": []
    },
    {
      "cell_type": "markdown",
      "metadata": {
        "id": "V002wzK6LLYw"
      },
      "source": [
        "### DecisionTreeClassifier"
      ]
    },
    {
      "cell_type": "code",
      "metadata": {
        "colab": {
          "base_uri": "https://localhost:8080/",
          "height": 0
        },
        "id": "a-B1GXGEJHy0",
        "outputId": "a8978706-f4d8-495f-b18b-2f9279cd37fe"
      },
      "source": [
        "param_grid={\n",
        "      'min_samples_split':[3,5,7,9]\n",
        "}\n",
        "\n",
        "dt_clf=DecisionTreeClassifier()\n",
        "dt_grid=GridSearchCV(estimator=dt_clf,param_grid=param_grid,n_jobs=-1)\n",
        "dt_grid.fit(x_train,y_train)"
      ],
      "execution_count": 39,
      "outputs": [
        {
          "output_type": "execute_result",
          "data": {
            "text/plain": [
              "GridSearchCV(cv=None, error_score=nan,\n",
              "             estimator=DecisionTreeClassifier(ccp_alpha=0.0, class_weight=None,\n",
              "                                              criterion='gini', max_depth=None,\n",
              "                                              max_features=None,\n",
              "                                              max_leaf_nodes=None,\n",
              "                                              min_impurity_decrease=0.0,\n",
              "                                              min_impurity_split=None,\n",
              "                                              min_samples_leaf=1,\n",
              "                                              min_samples_split=2,\n",
              "                                              min_weight_fraction_leaf=0.0,\n",
              "                                              presort='deprecated',\n",
              "                                              random_state=None,\n",
              "                                              splitter='best'),\n",
              "             iid='deprecated', n_jobs=-1,\n",
              "             param_grid={'min_samples_split': [3, 5, 7, 9]},\n",
              "             pre_dispatch='2*n_jobs', refit=True, return_train_score=False,\n",
              "             scoring=None, verbose=0)"
            ]
          },
          "metadata": {},
          "execution_count": 39
        }
      ]
    },
    {
      "cell_type": "code",
      "metadata": {
        "colab": {
          "base_uri": "https://localhost:8080/",
          "height": 0
        },
        "id": "zFKQ1E1CMBk4",
        "outputId": "7f8d7c89-173e-488d-9c5e-5d56e24b1feb"
      },
      "source": [
        "print('Best parameter for Decision Tree is below',dt_grid.best_params_)\n",
        "print('Decision Tree tuned validation accuracy = ',dt_grid.best_score_)\n",
        "print('Decision Tree final test set accuracy = ',dt_grid.score(x_test,y_test))"
      ],
      "execution_count": 40,
      "outputs": [
        {
          "output_type": "stream",
          "name": "stdout",
          "text": [
            "Best parameter for Decision Tree is below {'min_samples_split': 5}\n",
            "Decision Tree tuned validation accuracy =  0.8461938637243515\n",
            "Decision Tree final test set accuracy =  0.8472222222222222\n"
          ]
        }
      ]
    },
    {
      "cell_type": "code",
      "metadata": {
        "id": "Q9SHGkO0MBUY"
      },
      "source": [
        ""
      ],
      "execution_count": 40,
      "outputs": []
    },
    {
      "cell_type": "markdown",
      "metadata": {
        "id": "9XcHz_tzN0_Z"
      },
      "source": [
        "### LogisticRegression"
      ]
    },
    {
      "cell_type": "code",
      "metadata": {
        "id": "Lct7V_6UMAx4"
      },
      "source": [
        "param_grid={\n",
        "    'C':gama_range, #gama_range already defined above\n",
        "    'penalty':['l1'],\n",
        "    'solver':['liblinear']\n",
        "}\n",
        "lr_clf=LogisticRegression()\n",
        "lr_grid=GridSearchCV(estimator=lr_clf,param_grid=param_grid,n_jobs=-1)\n"
      ],
      "execution_count": 41,
      "outputs": []
    },
    {
      "cell_type": "code",
      "metadata": {
        "colab": {
          "base_uri": "https://localhost:8080/",
          "height": 0
        },
        "id": "BIYk0PfQPQa5",
        "outputId": "05773dfd-0ab3-4734-ee25-5a35595aaa78"
      },
      "source": [
        "lr_grid.fit(x_train,y_train)"
      ],
      "execution_count": 42,
      "outputs": [
        {
          "output_type": "execute_result",
          "data": {
            "text/plain": [
              "GridSearchCV(cv=None, error_score=nan,\n",
              "             estimator=LogisticRegression(C=1.0, class_weight=None, dual=False,\n",
              "                                          fit_intercept=True,\n",
              "                                          intercept_scaling=1, l1_ratio=None,\n",
              "                                          max_iter=100, multi_class='auto',\n",
              "                                          n_jobs=None, penalty='l2',\n",
              "                                          random_state=None, solver='lbfgs',\n",
              "                                          tol=0.0001, verbose=0,\n",
              "                                          warm_start=False),\n",
              "             iid='deprecated', n_jobs=-1,\n",
              "             param_grid={'C': [1e-05, 0.0001, 0.001, 0.01, 0.1, 1, 10, 100,\n",
              "                               1000, 10000],\n",
              "                         'penalty': ['l1'], 'solver': ['liblinear']},\n",
              "             pre_dispatch='2*n_jobs', refit=True, return_train_score=False,\n",
              "             scoring=None, verbose=0)"
            ]
          },
          "metadata": {},
          "execution_count": 42
        }
      ]
    },
    {
      "cell_type": "code",
      "metadata": {
        "colab": {
          "base_uri": "https://localhost:8080/",
          "height": 0
        },
        "id": "LuT3ICd0Q5Q5",
        "outputId": "21f2cf29-9d47-4a6e-ee8c-4b67cc532bfc"
      },
      "source": [
        "print('Best parameter for LogisticRegression is  ',lr_grid.best_params_)\n",
        "print('LogisticRegression tuned validation accuracy = ',lr_grid.best_score_)\n",
        "print('LogisticRegression final test set accuracy = ',lr_grid.score(x_test,y_test))"
      ],
      "execution_count": 43,
      "outputs": [
        {
          "output_type": "stream",
          "name": "stdout",
          "text": [
            "Best parameter for LogisticRegression is   {'C': 0.1, 'penalty': 'l1', 'solver': 'liblinear'}\n",
            "LogisticRegression tuned validation accuracy =  0.9617160278745643\n",
            "LogisticRegression final test set accuracy =  0.9722222222222222\n"
          ]
        }
      ]
    },
    {
      "cell_type": "code",
      "metadata": {
        "id": "IR1hHbTLRQhZ"
      },
      "source": [
        ""
      ],
      "execution_count": 43,
      "outputs": []
    },
    {
      "cell_type": "code",
      "metadata": {
        "colab": {
          "base_uri": "https://localhost:8080/",
          "height": 0
        },
        "id": "PlehDwffFVC_",
        "outputId": "a859da79-03cc-4d99-c81e-4e3ff0fb5654"
      },
      "source": [
        "default_score"
      ],
      "execution_count": 44,
      "outputs": [
        {
          "output_type": "execute_result",
          "data": {
            "text/plain": [
              "[{'SVM': 0.9888888888888889},\n",
              " {'KNN': 0.9805555555555555},\n",
              " {'Decision Trees': 0.8694444444444445},\n",
              " {'LogisticRegression': 0.9472222222222222}]"
            ]
          },
          "metadata": {},
          "execution_count": 44
        }
      ]
    },
    {
      "cell_type": "code",
      "metadata": {
        "id": "wuY8PGngbL9C"
      },
      "source": [
        ""
      ],
      "execution_count": null,
      "outputs": []
    },
    {
      "cell_type": "code",
      "metadata": {
        "colab": {
          "base_uri": "https://localhost:8080/",
          "height": 0
        },
        "id": "k7yvWv76FhcI",
        "outputId": "d9fad031-8f16-4b20-ac61-6c5ac1729452"
      },
      "source": [
        "print('Hyperparameter for each Classification is below ')\n",
        "print('LogisticRegression ',svm_grid.best_params_)\n",
        "print('LogisticRegression ',knn_grid.best_params_)\n",
        "print('Decision Tree ',dt_grid.best_params_)\n",
        "print('LogisticRegression ',lr_grid.best_params_)"
      ],
      "execution_count": 48,
      "outputs": [
        {
          "output_type": "stream",
          "name": "stdout",
          "text": [
            "Hyperparameter for each Classification is below \n",
            "LogisticRegression  {'C': 10, 'gamma': 0.001, 'kernel': 'rbf'}\n",
            "LogisticRegression  {'n_neighbors': 5}\n",
            "Decision Tree  {'min_samples_split': 5}\n",
            "LogisticRegression  {'C': 0.1, 'penalty': 'l1', 'solver': 'liblinear'}\n"
          ]
        }
      ]
    },
    {
      "cell_type": "code",
      "metadata": {
        "id": "Aqjaq67kalZ5"
      },
      "source": [
        ""
      ],
      "execution_count": null,
      "outputs": []
    },
    {
      "cell_type": "markdown",
      "metadata": {
        "id": "d6BxmyNXaqaR"
      },
      "source": [
        "![all model evaluate.PNG](data:image/png;base64,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)"
      ]
    },
    {
      "cell_type": "code",
      "metadata": {
        "id": "_-iMd2BKatKG"
      },
      "source": [
        ""
      ],
      "execution_count": null,
      "outputs": []
    }
  ]
}